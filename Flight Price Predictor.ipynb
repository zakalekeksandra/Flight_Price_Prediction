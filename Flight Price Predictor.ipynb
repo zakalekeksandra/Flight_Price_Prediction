{
 "cells": [
  {
   "cell_type": "markdown",
   "id": "6208d5a4",
   "metadata": {},
   "source": [
    "# Flight Price Predictor"
   ]
  },
  {
   "cell_type": "markdown",
   "id": "ebcd5be1",
   "metadata": {},
   "source": [
    "Flight ticket prices are difficult to predict as they flucatuate from one day to another. There are many factors that contribute towards the flight ticket price. This study tries to predict the ticket price based on some independent features.\n",
    "\n",
    "The dataset is available at: https://www.kaggle.com/datasets/nikhilmittal/flight-fare-prediction-mh?resource=download "
   ]
  },
  {
   "cell_type": "markdown",
   "id": "41943cac",
   "metadata": {},
   "source": [
    "Size of training set: 10683 records\n",
    "\n",
    "Size of test set: 2671 records"
   ]
  },
  {
   "cell_type": "markdown",
   "id": "b38533b6",
   "metadata": {},
   "source": [
    "Use cases\n",
    "- Prediction result can be useful for travellers to make informed decisions about their travel.\n",
    "- On the other hand, airlines can make use of this technology to forecast rates of competitors and adjust their pricing strategies accordingly to find out the optimal price they should set to maximize revenue while remaining competitive."
   ]
  },
  {
   "cell_type": "markdown",
   "id": "f486240c",
   "metadata": {},
   "source": [
    "FEATURES: \n",
    "\n",
    "- Airline: The name of the airline.\n",
    "\n",
    "- Date_of_Journey: The date of the journey\n",
    "\n",
    "- Source: The source from which the service begins.\n",
    "\n",
    "- Destination: The destination where the service ends.\n",
    "\n",
    "- Route: The route taken by the flight to reach the destination.\n",
    "\n",
    "- Dep_Time: The time when the journey starts from the source.\n",
    "\n",
    "- Arrival_Time: Time of arrival at the destination.\n",
    "\n",
    "- Duration: Total duration of the flight.\n",
    "\n",
    "- Total_Stops: Total stops between the source and destination.\n",
    "\n",
    "- Additional_Info: Additional information about the flight\n",
    "\n",
    "- Price: The price of the ticket"
   ]
  },
  {
   "cell_type": "markdown",
   "id": "926bef5b",
   "metadata": {},
   "source": [
    "# Importing libraries"
   ]
  },
  {
   "cell_type": "code",
   "execution_count": 1,
   "id": "c176ddd6",
   "metadata": {},
   "outputs": [],
   "source": [
    "import glob\n",
    "import pandas as pd\n",
    "import matplotlib.pyplot as plt\n",
    "import numpy as np\n",
    "import seaborn as sns\n",
    "import warnings\n",
    "warnings.filterwarnings(\"ignore\")\n",
    "from sklearn.preprocessing import LabelEncoder\n",
    "from sklearn.model_selection import train_test_split\n",
    "from sklearn.neighbors import KNeighborsRegressor\n",
    "from sklearn.tree import DecisionTreeRegressor\n",
    "from sklearn.ensemble import RandomForestRegressor\n",
    "from sklearn.metrics import r2_score,mean_absolute_error,mean_squared_error\n",
    "from sklearn.model_selection import RandomizedSearchCV"
   ]
  },
  {
   "cell_type": "markdown",
   "id": "2e82f697",
   "metadata": {},
   "source": [
    "# Loading the Flight Fare Data"
   ]
  },
  {
   "cell_type": "code",
   "execution_count": 2,
   "id": "395db9d7",
   "metadata": {},
   "outputs": [],
   "source": [
    "def read_data(dir_path: str, dataset: str) -> pd.DataFrame:\n",
    "    \"\"\"\n",
    "    This function takes directory path and dataset type(train/test) and returns dataframe\n",
    "    \n",
    "    Parameteres:\n",
    "    dir_path (str): Directory path\n",
    "    dataset(str): Data_Train/Data_Test\n",
    "    \n",
    "    Returns:\n",
    "    pd.DataFrame\n",
    "    \n",
    "    \"\"\"\n",
    "   \n",
    "    directory = dir_path + dataset + '.xlsx'\n",
    "    dataset = pd.read_excel(directory)\n",
    "    return dataset"
   ]
  },
  {
   "cell_type": "code",
   "execution_count": 3,
   "id": "3febbf4d",
   "metadata": {},
   "outputs": [],
   "source": [
    "train_data = read_data('/Users/aleksandrazak/Desktop/Airline/', 'Data_Train')\n",
    "test_data = read_data('/Users/aleksandrazak/Desktop/Airline/', 'Data_Test')\n",
    "data = train_data.append(test_data, sort=False)"
   ]
  },
  {
   "cell_type": "code",
   "execution_count": 4,
   "id": "a1856bce",
   "metadata": {},
   "outputs": [
    {
     "data": {
      "text/plain": [
       "((10683, 11), (2671, 10))"
      ]
     },
     "execution_count": 4,
     "metadata": {},
     "output_type": "execute_result"
    }
   ],
   "source": [
    "train_data.shape, test_data.shape"
   ]
  },
  {
   "cell_type": "code",
   "execution_count": 5,
   "id": "5d9c6cf6",
   "metadata": {},
   "outputs": [
    {
     "data": {
      "text/html": [
       "<div>\n",
       "<style scoped>\n",
       "    .dataframe tbody tr th:only-of-type {\n",
       "        vertical-align: middle;\n",
       "    }\n",
       "\n",
       "    .dataframe tbody tr th {\n",
       "        vertical-align: top;\n",
       "    }\n",
       "\n",
       "    .dataframe thead th {\n",
       "        text-align: right;\n",
       "    }\n",
       "</style>\n",
       "<table border=\"1\" class=\"dataframe\">\n",
       "  <thead>\n",
       "    <tr style=\"text-align: right;\">\n",
       "      <th></th>\n",
       "      <th>Airline</th>\n",
       "      <th>Date_of_Journey</th>\n",
       "      <th>Source</th>\n",
       "      <th>Destination</th>\n",
       "      <th>Route</th>\n",
       "      <th>Dep_Time</th>\n",
       "      <th>Arrival_Time</th>\n",
       "      <th>Duration</th>\n",
       "      <th>Total_Stops</th>\n",
       "      <th>Additional_Info</th>\n",
       "      <th>Price</th>\n",
       "    </tr>\n",
       "  </thead>\n",
       "  <tbody>\n",
       "    <tr>\n",
       "      <th>0</th>\n",
       "      <td>IndiGo</td>\n",
       "      <td>24/03/2019</td>\n",
       "      <td>Banglore</td>\n",
       "      <td>New Delhi</td>\n",
       "      <td>BLR → DEL</td>\n",
       "      <td>22:20</td>\n",
       "      <td>01:10 22 Mar</td>\n",
       "      <td>2h 50m</td>\n",
       "      <td>non-stop</td>\n",
       "      <td>No info</td>\n",
       "      <td>3897.0</td>\n",
       "    </tr>\n",
       "    <tr>\n",
       "      <th>1</th>\n",
       "      <td>Air India</td>\n",
       "      <td>1/05/2019</td>\n",
       "      <td>Kolkata</td>\n",
       "      <td>Banglore</td>\n",
       "      <td>CCU → IXR → BBI → BLR</td>\n",
       "      <td>05:50</td>\n",
       "      <td>13:15</td>\n",
       "      <td>7h 25m</td>\n",
       "      <td>2 stops</td>\n",
       "      <td>No info</td>\n",
       "      <td>7662.0</td>\n",
       "    </tr>\n",
       "    <tr>\n",
       "      <th>2</th>\n",
       "      <td>Jet Airways</td>\n",
       "      <td>9/06/2019</td>\n",
       "      <td>Delhi</td>\n",
       "      <td>Cochin</td>\n",
       "      <td>DEL → LKO → BOM → COK</td>\n",
       "      <td>09:25</td>\n",
       "      <td>04:25 10 Jun</td>\n",
       "      <td>19h</td>\n",
       "      <td>2 stops</td>\n",
       "      <td>No info</td>\n",
       "      <td>13882.0</td>\n",
       "    </tr>\n",
       "    <tr>\n",
       "      <th>3</th>\n",
       "      <td>IndiGo</td>\n",
       "      <td>12/05/2019</td>\n",
       "      <td>Kolkata</td>\n",
       "      <td>Banglore</td>\n",
       "      <td>CCU → NAG → BLR</td>\n",
       "      <td>18:05</td>\n",
       "      <td>23:30</td>\n",
       "      <td>5h 25m</td>\n",
       "      <td>1 stop</td>\n",
       "      <td>No info</td>\n",
       "      <td>6218.0</td>\n",
       "    </tr>\n",
       "    <tr>\n",
       "      <th>4</th>\n",
       "      <td>IndiGo</td>\n",
       "      <td>01/03/2019</td>\n",
       "      <td>Banglore</td>\n",
       "      <td>New Delhi</td>\n",
       "      <td>BLR → NAG → DEL</td>\n",
       "      <td>16:50</td>\n",
       "      <td>21:35</td>\n",
       "      <td>4h 45m</td>\n",
       "      <td>1 stop</td>\n",
       "      <td>No info</td>\n",
       "      <td>13302.0</td>\n",
       "    </tr>\n",
       "  </tbody>\n",
       "</table>\n",
       "</div>"
      ],
      "text/plain": [
       "       Airline Date_of_Journey    Source Destination                  Route  \\\n",
       "0       IndiGo      24/03/2019  Banglore   New Delhi              BLR → DEL   \n",
       "1    Air India       1/05/2019   Kolkata    Banglore  CCU → IXR → BBI → BLR   \n",
       "2  Jet Airways       9/06/2019     Delhi      Cochin  DEL → LKO → BOM → COK   \n",
       "3       IndiGo      12/05/2019   Kolkata    Banglore        CCU → NAG → BLR   \n",
       "4       IndiGo      01/03/2019  Banglore   New Delhi        BLR → NAG → DEL   \n",
       "\n",
       "  Dep_Time  Arrival_Time Duration Total_Stops Additional_Info    Price  \n",
       "0    22:20  01:10 22 Mar   2h 50m    non-stop         No info   3897.0  \n",
       "1    05:50         13:15   7h 25m     2 stops         No info   7662.0  \n",
       "2    09:25  04:25 10 Jun      19h     2 stops         No info  13882.0  \n",
       "3    18:05         23:30   5h 25m      1 stop         No info   6218.0  \n",
       "4    16:50         21:35   4h 45m      1 stop         No info  13302.0  "
      ]
     },
     "execution_count": 5,
     "metadata": {},
     "output_type": "execute_result"
    }
   ],
   "source": [
    "data.head()"
   ]
  },
  {
   "cell_type": "markdown",
   "id": "bf08fdf2",
   "metadata": {},
   "source": [
    "# Data summary"
   ]
  },
  {
   "cell_type": "markdown",
   "id": "1cfed430",
   "metadata": {},
   "source": [
    "1. Dataset shape"
   ]
  },
  {
   "cell_type": "code",
   "execution_count": 6,
   "id": "fa916e27",
   "metadata": {},
   "outputs": [
    {
     "data": {
      "text/plain": [
       "(13354, 11)"
      ]
     },
     "execution_count": 6,
     "metadata": {},
     "output_type": "execute_result"
    }
   ],
   "source": [
    "data.shape"
   ]
  },
  {
   "cell_type": "markdown",
   "id": "3a838def",
   "metadata": {},
   "source": [
    "2. Summary of the dataset. \n",
    "\n",
    "Since this dataset has only 1 numercial column, describe() will display summary statistics only for the \"Price\" column."
   ]
  },
  {
   "cell_type": "code",
   "execution_count": 7,
   "id": "fcd3edd6",
   "metadata": {},
   "outputs": [
    {
     "data": {
      "text/html": [
       "<div>\n",
       "<style scoped>\n",
       "    .dataframe tbody tr th:only-of-type {\n",
       "        vertical-align: middle;\n",
       "    }\n",
       "\n",
       "    .dataframe tbody tr th {\n",
       "        vertical-align: top;\n",
       "    }\n",
       "\n",
       "    .dataframe thead th {\n",
       "        text-align: right;\n",
       "    }\n",
       "</style>\n",
       "<table border=\"1\" class=\"dataframe\">\n",
       "  <thead>\n",
       "    <tr style=\"text-align: right;\">\n",
       "      <th></th>\n",
       "      <th>Price</th>\n",
       "    </tr>\n",
       "  </thead>\n",
       "  <tbody>\n",
       "    <tr>\n",
       "      <th>count</th>\n",
       "      <td>10683.000000</td>\n",
       "    </tr>\n",
       "    <tr>\n",
       "      <th>mean</th>\n",
       "      <td>9087.064121</td>\n",
       "    </tr>\n",
       "    <tr>\n",
       "      <th>std</th>\n",
       "      <td>4611.359167</td>\n",
       "    </tr>\n",
       "    <tr>\n",
       "      <th>min</th>\n",
       "      <td>1759.000000</td>\n",
       "    </tr>\n",
       "    <tr>\n",
       "      <th>25%</th>\n",
       "      <td>5277.000000</td>\n",
       "    </tr>\n",
       "    <tr>\n",
       "      <th>50%</th>\n",
       "      <td>8372.000000</td>\n",
       "    </tr>\n",
       "    <tr>\n",
       "      <th>75%</th>\n",
       "      <td>12373.000000</td>\n",
       "    </tr>\n",
       "    <tr>\n",
       "      <th>max</th>\n",
       "      <td>79512.000000</td>\n",
       "    </tr>\n",
       "  </tbody>\n",
       "</table>\n",
       "</div>"
      ],
      "text/plain": [
       "              Price\n",
       "count  10683.000000\n",
       "mean    9087.064121\n",
       "std     4611.359167\n",
       "min     1759.000000\n",
       "25%     5277.000000\n",
       "50%     8372.000000\n",
       "75%    12373.000000\n",
       "max    79512.000000"
      ]
     },
     "execution_count": 7,
     "metadata": {},
     "output_type": "execute_result"
    }
   ],
   "source": [
    "data.describe()"
   ]
  },
  {
   "cell_type": "markdown",
   "id": "154ba6c0",
   "metadata": {},
   "source": [
    "Data types and missing values"
   ]
  },
  {
   "cell_type": "code",
   "execution_count": 8,
   "id": "2714bca1",
   "metadata": {},
   "outputs": [
    {
     "name": "stdout",
     "output_type": "stream",
     "text": [
      "<class 'pandas.core.frame.DataFrame'>\n",
      "Int64Index: 13354 entries, 0 to 2670\n",
      "Data columns (total 11 columns):\n",
      " #   Column           Non-Null Count  Dtype  \n",
      "---  ------           --------------  -----  \n",
      " 0   Airline          13354 non-null  object \n",
      " 1   Date_of_Journey  13354 non-null  object \n",
      " 2   Source           13354 non-null  object \n",
      " 3   Destination      13354 non-null  object \n",
      " 4   Route            13353 non-null  object \n",
      " 5   Dep_Time         13354 non-null  object \n",
      " 6   Arrival_Time     13354 non-null  object \n",
      " 7   Duration         13354 non-null  object \n",
      " 8   Total_Stops      13353 non-null  object \n",
      " 9   Additional_Info  13354 non-null  object \n",
      " 10  Price            10683 non-null  float64\n",
      "dtypes: float64(1), object(10)\n",
      "memory usage: 1.2+ MB\n"
     ]
    },
    {
     "data": {
      "text/plain": [
       "Airline             object\n",
       "Date_of_Journey     object\n",
       "Source              object\n",
       "Destination         object\n",
       "Route               object\n",
       "Dep_Time            object\n",
       "Arrival_Time        object\n",
       "Duration            object\n",
       "Total_Stops         object\n",
       "Additional_Info     object\n",
       "Price              float64\n",
       "dtype: object"
      ]
     },
     "execution_count": 8,
     "metadata": {},
     "output_type": "execute_result"
    }
   ],
   "source": [
    "data.info()\n",
    "data.dtypes"
   ]
  },
  {
   "cell_type": "markdown",
   "id": "ecbf487b",
   "metadata": {},
   "source": [
    "Single values are missing in route and total stops columns. Price variable has 2671 rows with missing values which corresponds to test dataset."
   ]
  },
  {
   "cell_type": "markdown",
   "id": "03cb6969",
   "metadata": {},
   "source": [
    "Are there outliers in price variable?"
   ]
  },
  {
   "cell_type": "code",
   "execution_count": 9,
   "id": "09a3dce6",
   "metadata": {},
   "outputs": [
    {
     "data": {
      "image/png": "[encoded data removed]",
      "text/plain": [
       "<Figure size 640x480 with 1 Axes>"
      ]
     },
     "metadata": {},
     "output_type": "display_data"
    }
   ],
   "source": [
    "sns.boxplot(data['Price'])\n",
    "plt.show()"
   ]
  },
  {
   "cell_type": "markdown",
   "id": "4de8c055",
   "metadata": {},
   "source": [
    "We see individual points from 50000-80000. However without more business context we cannot say if these actually are outliers. Maybe customer purchased a last minute top-range business class ticket on Christmas Day? More data on this particular flight would be needed."
   ]
  },
  {
   "cell_type": "code",
   "execution_count": 10,
   "id": "459ad23a",
   "metadata": {},
   "outputs": [
    {
     "data": {
      "text/plain": [
       "Airline            Jet Airways Business\n",
       "Date_of_Journey              01/03/2019\n",
       "Source                         Banglore\n",
       "Destination                   New Delhi\n",
       "Route                   BLR → BOM → DEL\n",
       "Dep_Time                          05:45\n",
       "Arrival_Time                      11:25\n",
       "Duration                         5h 40m\n",
       "Total_Stops                      1 stop\n",
       "Additional_Info          Business class\n",
       "Price                           79512.0\n",
       "Name: 2924, dtype: object"
      ]
     },
     "execution_count": 10,
     "metadata": {},
     "output_type": "execute_result"
    }
   ],
   "source": [
    "data.loc[train_data['Price'].idxmax()]"
   ]
  },
  {
   "cell_type": "markdown",
   "id": "a5e839e2",
   "metadata": {},
   "source": [
    "Above results represent the most expensive flights in the training data. We see that the flight wasn't even that long but it was a business class flight."
   ]
  },
  {
   "cell_type": "markdown",
   "id": "91e8e69a",
   "metadata": {},
   "source": [
    "# Exploratory data analysis"
   ]
  },
  {
   "cell_type": "markdown",
   "id": "aa9bdaa7",
   "metadata": {},
   "source": [
    "1. Most preferred airline"
   ]
  },
  {
   "cell_type": "markdown",
   "id": "c6f3b81d",
   "metadata": {},
   "source": [
    "Bar chart showing most preferred Airlines"
   ]
  },
  {
   "cell_type": "code",
   "execution_count": 11,
   "id": "f5a61cc4",
   "metadata": {},
   "outputs": [
    {
     "data": {
      "text/plain": [
       "Index(['Jet Airways', 'IndiGo', 'Air India', 'Multiple carriers', 'SpiceJet',\n",
       "       'Vistara', 'Air Asia', 'GoAir', 'Multiple carriers Premium economy',\n",
       "       'Jet Airways Business', 'Vistara Premium economy', 'Trujet'],\n",
       "      dtype='object')"
      ]
     },
     "execution_count": 11,
     "metadata": {},
     "output_type": "execute_result"
    }
   ],
   "source": [
    "data['Airline'].value_counts().index"
   ]
  },
  {
   "cell_type": "code",
   "execution_count": 12,
   "id": "eca88a55",
   "metadata": {},
   "outputs": [
    {
     "data": {
      "image/png": "[encoded data removed]",
      "text/plain": [
       "<Figure size 1200x500 with 1 Axes>"
      ]
     },
     "metadata": {},
     "output_type": "display_data"
    }
   ],
   "source": [
    "plt.figure(figsize=(12,5))\n",
    "sns.countplot(data['Airline'], order=data['Airline'].value_counts().index, ec='black')\n",
    "plt.title('Most preferred airline')\n",
    "plt.xticks(rotation=90)\n",
    "plt.ylabel('Count')\n",
    "plt.show()"
   ]
  },
  {
   "cell_type": "markdown",
   "id": "c5516040",
   "metadata": {},
   "source": [
    "Insights\n",
    " - Most preferred Airline is \"Jet Airways\" which sold the most tickets followed by Indigo"
   ]
  },
  {
   "cell_type": "markdown",
   "id": "ea379319",
   "metadata": {},
   "source": [
    "2. What is the most expensive airline? "
   ]
  },
  {
   "cell_type": "code",
   "execution_count": 13,
   "id": "4ef3fb9a",
   "metadata": {},
   "outputs": [],
   "source": [
    "price_grouped = data.groupby('Airline')['Price'].max().sort_values(ascending= False)\n",
    "price_grouped_df = price_grouped.to_frame()"
   ]
  },
  {
   "cell_type": "code",
   "execution_count": 14,
   "id": "ab657ecd",
   "metadata": {},
   "outputs": [
    {
     "data": {
      "text/html": [
       "<div>\n",
       "<style scoped>\n",
       "    .dataframe tbody tr th:only-of-type {\n",
       "        vertical-align: middle;\n",
       "    }\n",
       "\n",
       "    .dataframe tbody tr th {\n",
       "        vertical-align: top;\n",
       "    }\n",
       "\n",
       "    .dataframe thead th {\n",
       "        text-align: right;\n",
       "    }\n",
       "</style>\n",
       "<table border=\"1\" class=\"dataframe\">\n",
       "  <thead>\n",
       "    <tr style=\"text-align: right;\">\n",
       "      <th></th>\n",
       "      <th>Price</th>\n",
       "    </tr>\n",
       "    <tr>\n",
       "      <th>Airline</th>\n",
       "      <th></th>\n",
       "    </tr>\n",
       "  </thead>\n",
       "  <tbody>\n",
       "    <tr>\n",
       "      <th>Jet Airways Business</th>\n",
       "      <td>79512.0</td>\n",
       "    </tr>\n",
       "    <tr>\n",
       "      <th>Jet Airways</th>\n",
       "      <td>54826.0</td>\n",
       "    </tr>\n",
       "    <tr>\n",
       "      <th>Multiple carriers</th>\n",
       "      <td>36983.0</td>\n",
       "    </tr>\n",
       "    <tr>\n",
       "      <th>Air India</th>\n",
       "      <td>31945.0</td>\n",
       "    </tr>\n",
       "    <tr>\n",
       "      <th>SpiceJet</th>\n",
       "      <td>23267.0</td>\n",
       "    </tr>\n",
       "    <tr>\n",
       "      <th>GoAir</th>\n",
       "      <td>22794.0</td>\n",
       "    </tr>\n",
       "    <tr>\n",
       "      <th>IndiGo</th>\n",
       "      <td>22153.0</td>\n",
       "    </tr>\n",
       "    <tr>\n",
       "      <th>Vistara</th>\n",
       "      <td>21730.0</td>\n",
       "    </tr>\n",
       "    <tr>\n",
       "      <th>Multiple carriers Premium economy</th>\n",
       "      <td>14629.0</td>\n",
       "    </tr>\n",
       "    <tr>\n",
       "      <th>Air Asia</th>\n",
       "      <td>13774.0</td>\n",
       "    </tr>\n",
       "    <tr>\n",
       "      <th>Vistara Premium economy</th>\n",
       "      <td>11793.0</td>\n",
       "    </tr>\n",
       "    <tr>\n",
       "      <th>Trujet</th>\n",
       "      <td>4140.0</td>\n",
       "    </tr>\n",
       "  </tbody>\n",
       "</table>\n",
       "</div>"
      ],
      "text/plain": [
       "                                     Price\n",
       "Airline                                   \n",
       "Jet Airways Business               79512.0\n",
       "Jet Airways                        54826.0\n",
       "Multiple carriers                  36983.0\n",
       "Air India                          31945.0\n",
       "SpiceJet                           23267.0\n",
       "GoAir                              22794.0\n",
       "IndiGo                             22153.0\n",
       "Vistara                            21730.0\n",
       "Multiple carriers Premium economy  14629.0\n",
       "Air Asia                           13774.0\n",
       "Vistara Premium economy            11793.0\n",
       "Trujet                              4140.0"
      ]
     },
     "execution_count": 14,
     "metadata": {},
     "output_type": "execute_result"
    }
   ],
   "source": [
    "price_grouped_df"
   ]
  },
  {
   "cell_type": "code",
   "execution_count": 15,
   "id": "d4208190",
   "metadata": {},
   "outputs": [
    {
     "data": {
      "image/png": "[encoded data removed]",
      "text/plain": [
       "<Figure size 1200x500 with 1 Axes>"
      ]
     },
     "metadata": {},
     "output_type": "display_data"
    }
   ],
   "source": [
    "plt.figure(figsize= (12,5))\n",
    "sns.barplot(x=price_grouped_df.index, y=price_grouped_df['Price'], ec='black')\n",
    "plt.title('Airline Company vs Ticket Price')\n",
    "plt.xticks(rotation=90)\n",
    "plt.ylabel('Flight Ticket Price')\n",
    "plt.show()"
   ]
  },
  {
   "cell_type": "markdown",
   "id": "a4bb72b4",
   "metadata": {},
   "source": [
    "Above graph shows that Jet Airways Business sold the most expensive ticket. Comparing maxmimum price is subjective as it does not take into account the class person travelled and the distance. We can't take duration into account as it not necesserily mean flight time as it also includes layover."
   ]
  },
  {
   "cell_type": "markdown",
   "id": "170155ac",
   "metadata": {},
   "source": [
    "3. On which day of the week were the flights the most expensive?"
   ]
  },
  {
   "cell_type": "code",
   "execution_count": 16,
   "id": "9f1eafc5",
   "metadata": {},
   "outputs": [
    {
     "data": {
      "text/html": [
       "<div>\n",
       "<style scoped>\n",
       "    .dataframe tbody tr th:only-of-type {\n",
       "        vertical-align: middle;\n",
       "    }\n",
       "\n",
       "    .dataframe tbody tr th {\n",
       "        vertical-align: top;\n",
       "    }\n",
       "\n",
       "    .dataframe thead th {\n",
       "        text-align: right;\n",
       "    }\n",
       "</style>\n",
       "<table border=\"1\" class=\"dataframe\">\n",
       "  <thead>\n",
       "    <tr style=\"text-align: right;\">\n",
       "      <th></th>\n",
       "      <th>Airline</th>\n",
       "      <th>Price</th>\n",
       "      <th>Date_of_Journey</th>\n",
       "    </tr>\n",
       "  </thead>\n",
       "  <tbody>\n",
       "    <tr>\n",
       "      <th>0</th>\n",
       "      <td>IndiGo</td>\n",
       "      <td>3897.0</td>\n",
       "      <td>24/03/2019</td>\n",
       "    </tr>\n",
       "    <tr>\n",
       "      <th>1</th>\n",
       "      <td>Air India</td>\n",
       "      <td>7662.0</td>\n",
       "      <td>1/05/2019</td>\n",
       "    </tr>\n",
       "    <tr>\n",
       "      <th>2</th>\n",
       "      <td>Jet Airways</td>\n",
       "      <td>13882.0</td>\n",
       "      <td>9/06/2019</td>\n",
       "    </tr>\n",
       "    <tr>\n",
       "      <th>3</th>\n",
       "      <td>IndiGo</td>\n",
       "      <td>6218.0</td>\n",
       "      <td>12/05/2019</td>\n",
       "    </tr>\n",
       "    <tr>\n",
       "      <th>4</th>\n",
       "      <td>IndiGo</td>\n",
       "      <td>13302.0</td>\n",
       "      <td>01/03/2019</td>\n",
       "    </tr>\n",
       "  </tbody>\n",
       "</table>\n",
       "</div>"
      ],
      "text/plain": [
       "       Airline    Price Date_of_Journey\n",
       "0       IndiGo   3897.0      24/03/2019\n",
       "1    Air India   7662.0       1/05/2019\n",
       "2  Jet Airways  13882.0       9/06/2019\n",
       "3       IndiGo   6218.0      12/05/2019\n",
       "4       IndiGo  13302.0      01/03/2019"
      ]
     },
     "execution_count": 16,
     "metadata": {},
     "output_type": "execute_result"
    }
   ],
   "source": [
    "days_df = data[['Airline', 'Price', 'Date_of_Journey']].copy()\n",
    "days_df.head()"
   ]
  },
  {
   "cell_type": "code",
   "execution_count": 17,
   "id": "d4c5e558",
   "metadata": {},
   "outputs": [],
   "source": [
    "days_df['Date_of_Journey'] = pd.to_datetime(days_df['Date_of_Journey'], format= '%d/%M/%Y')\n",
    "days_df['Weekday'] = days_df['Date_of_Journey'].dt.day_name()"
   ]
  },
  {
   "cell_type": "code",
   "execution_count": 18,
   "id": "985d3f33",
   "metadata": {},
   "outputs": [
    {
     "data": {
      "text/html": [
       "<div>\n",
       "<style scoped>\n",
       "    .dataframe tbody tr th:only-of-type {\n",
       "        vertical-align: middle;\n",
       "    }\n",
       "\n",
       "    .dataframe tbody tr th {\n",
       "        vertical-align: top;\n",
       "    }\n",
       "\n",
       "    .dataframe thead th {\n",
       "        text-align: right;\n",
       "    }\n",
       "</style>\n",
       "<table border=\"1\" class=\"dataframe\">\n",
       "  <thead>\n",
       "    <tr style=\"text-align: right;\">\n",
       "      <th></th>\n",
       "      <th>Airline</th>\n",
       "      <th>Price</th>\n",
       "      <th>Date_of_Journey</th>\n",
       "      <th>Weekday</th>\n",
       "    </tr>\n",
       "  </thead>\n",
       "  <tbody>\n",
       "    <tr>\n",
       "      <th>0</th>\n",
       "      <td>IndiGo</td>\n",
       "      <td>3897.0</td>\n",
       "      <td>2019-01-24 00:03:00</td>\n",
       "      <td>Thursday</td>\n",
       "    </tr>\n",
       "    <tr>\n",
       "      <th>1</th>\n",
       "      <td>Air India</td>\n",
       "      <td>7662.0</td>\n",
       "      <td>2019-01-01 00:05:00</td>\n",
       "      <td>Tuesday</td>\n",
       "    </tr>\n",
       "    <tr>\n",
       "      <th>2</th>\n",
       "      <td>Jet Airways</td>\n",
       "      <td>13882.0</td>\n",
       "      <td>2019-01-09 00:06:00</td>\n",
       "      <td>Wednesday</td>\n",
       "    </tr>\n",
       "    <tr>\n",
       "      <th>3</th>\n",
       "      <td>IndiGo</td>\n",
       "      <td>6218.0</td>\n",
       "      <td>2019-01-12 00:05:00</td>\n",
       "      <td>Saturday</td>\n",
       "    </tr>\n",
       "    <tr>\n",
       "      <th>4</th>\n",
       "      <td>IndiGo</td>\n",
       "      <td>13302.0</td>\n",
       "      <td>2019-01-01 00:03:00</td>\n",
       "      <td>Tuesday</td>\n",
       "    </tr>\n",
       "  </tbody>\n",
       "</table>\n",
       "</div>"
      ],
      "text/plain": [
       "       Airline    Price     Date_of_Journey    Weekday\n",
       "0       IndiGo   3897.0 2019-01-24 00:03:00   Thursday\n",
       "1    Air India   7662.0 2019-01-01 00:05:00    Tuesday\n",
       "2  Jet Airways  13882.0 2019-01-09 00:06:00  Wednesday\n",
       "3       IndiGo   6218.0 2019-01-12 00:05:00   Saturday\n",
       "4       IndiGo  13302.0 2019-01-01 00:03:00    Tuesday"
      ]
     },
     "execution_count": 18,
     "metadata": {},
     "output_type": "execute_result"
    }
   ],
   "source": [
    "days_df.head()"
   ]
  },
  {
   "cell_type": "code",
   "execution_count": 19,
   "id": "eb82cf32",
   "metadata": {},
   "outputs": [],
   "source": [
    "grouped_day = days_df.groupby('Weekday')['Price'].max().sort_values(ascending=False)\n",
    "grouped_day_df = grouped_day.to_frame()"
   ]
  },
  {
   "cell_type": "code",
   "execution_count": 20,
   "id": "d4916605",
   "metadata": {},
   "outputs": [
    {
     "data": {
      "text/html": [
       "<div>\n",
       "<style scoped>\n",
       "    .dataframe tbody tr th:only-of-type {\n",
       "        vertical-align: middle;\n",
       "    }\n",
       "\n",
       "    .dataframe tbody tr th {\n",
       "        vertical-align: top;\n",
       "    }\n",
       "\n",
       "    .dataframe thead th {\n",
       "        text-align: right;\n",
       "    }\n",
       "</style>\n",
       "<table border=\"1\" class=\"dataframe\">\n",
       "  <thead>\n",
       "    <tr style=\"text-align: right;\">\n",
       "      <th></th>\n",
       "      <th>Price</th>\n",
       "    </tr>\n",
       "    <tr>\n",
       "      <th>Weekday</th>\n",
       "      <th></th>\n",
       "    </tr>\n",
       "  </thead>\n",
       "  <tbody>\n",
       "    <tr>\n",
       "      <th>Tuesday</th>\n",
       "      <td>79512.0</td>\n",
       "    </tr>\n",
       "    <tr>\n",
       "      <th>Friday</th>\n",
       "      <td>54826.0</td>\n",
       "    </tr>\n",
       "    <tr>\n",
       "      <th>Sunday</th>\n",
       "      <td>52285.0</td>\n",
       "    </tr>\n",
       "    <tr>\n",
       "      <th>Thursday</th>\n",
       "      <td>46490.0</td>\n",
       "    </tr>\n",
       "    <tr>\n",
       "      <th>Wednesday</th>\n",
       "      <td>34608.0</td>\n",
       "    </tr>\n",
       "    <tr>\n",
       "      <th>Saturday</th>\n",
       "      <td>23843.0</td>\n",
       "    </tr>\n",
       "    <tr>\n",
       "      <th>Monday</th>\n",
       "      <td>16655.0</td>\n",
       "    </tr>\n",
       "  </tbody>\n",
       "</table>\n",
       "</div>"
      ],
      "text/plain": [
       "             Price\n",
       "Weekday           \n",
       "Tuesday    79512.0\n",
       "Friday     54826.0\n",
       "Sunday     52285.0\n",
       "Thursday   46490.0\n",
       "Wednesday  34608.0\n",
       "Saturday   23843.0\n",
       "Monday     16655.0"
      ]
     },
     "execution_count": 20,
     "metadata": {},
     "output_type": "execute_result"
    }
   ],
   "source": [
    "grouped_day_df"
   ]
  },
  {
   "cell_type": "code",
   "execution_count": 21,
   "id": "81e78a77",
   "metadata": {},
   "outputs": [
    {
     "data": {
      "image/png": "[encoded data removed]",
      "text/plain": [
       "<Figure size 1200x500 with 1 Axes>"
      ]
     },
     "metadata": {},
     "output_type": "display_data"
    }
   ],
   "source": [
    "plt.figure(figsize=(12,5))\n",
    "sns.barplot(x = grouped_day_df.index, y = grouped_day_df['Price'], ec='black')\n",
    "plt.title('Max price vs day of the week')\n",
    "plt.xlabel('Airline', size=15)\n",
    "plt.ylabel('Price', size=15)\n",
    "plt.show()"
   ]
  },
  {
   "cell_type": "markdown",
   "id": "58321b34",
   "metadata": {},
   "source": [
    "Caveat in the above graph is that it shows a single max value. If e.g there was a bank holiday on this particular Tuesday that would increase the flight ticket price. Therefore, assuming that tickets are the most expensive on Tuesdays would be incorrect."
   ]
  },
  {
   "cell_type": "markdown",
   "id": "87aeea86",
   "metadata": {},
   "source": [
    "Let's have a look at the mean price instead."
   ]
  },
  {
   "cell_type": "code",
   "execution_count": 22,
   "id": "36a2a302",
   "metadata": {},
   "outputs": [
    {
     "data": {
      "text/html": [
       "<div>\n",
       "<style scoped>\n",
       "    .dataframe tbody tr th:only-of-type {\n",
       "        vertical-align: middle;\n",
       "    }\n",
       "\n",
       "    .dataframe tbody tr th {\n",
       "        vertical-align: top;\n",
       "    }\n",
       "\n",
       "    .dataframe thead th {\n",
       "        text-align: right;\n",
       "    }\n",
       "</style>\n",
       "<table border=\"1\" class=\"dataframe\">\n",
       "  <thead>\n",
       "    <tr style=\"text-align: right;\">\n",
       "      <th></th>\n",
       "      <th>Price</th>\n",
       "    </tr>\n",
       "    <tr>\n",
       "      <th>Weekday</th>\n",
       "      <th></th>\n",
       "    </tr>\n",
       "  </thead>\n",
       "  <tbody>\n",
       "    <tr>\n",
       "      <th>Wednesday</th>\n",
       "      <td>9551.474395</td>\n",
       "    </tr>\n",
       "    <tr>\n",
       "      <th>Sunday</th>\n",
       "      <td>9369.226634</td>\n",
       "    </tr>\n",
       "    <tr>\n",
       "      <th>Tuesday</th>\n",
       "      <td>9362.485187</td>\n",
       "    </tr>\n",
       "    <tr>\n",
       "      <th>Saturday</th>\n",
       "      <td>9110.774295</td>\n",
       "    </tr>\n",
       "    <tr>\n",
       "      <th>Thursday</th>\n",
       "      <td>8685.800000</td>\n",
       "    </tr>\n",
       "    <tr>\n",
       "      <th>Friday</th>\n",
       "      <td>8671.573317</td>\n",
       "    </tr>\n",
       "    <tr>\n",
       "      <th>Monday</th>\n",
       "      <td>8351.760576</td>\n",
       "    </tr>\n",
       "  </tbody>\n",
       "</table>\n",
       "</div>"
      ],
      "text/plain": [
       "                 Price\n",
       "Weekday               \n",
       "Wednesday  9551.474395\n",
       "Sunday     9369.226634\n",
       "Tuesday    9362.485187\n",
       "Saturday   9110.774295\n",
       "Thursday   8685.800000\n",
       "Friday     8671.573317\n",
       "Monday     8351.760576"
      ]
     },
     "execution_count": 22,
     "metadata": {},
     "output_type": "execute_result"
    }
   ],
   "source": [
    "grouped_day_mean = days_df.groupby('Weekday')['Price'].mean().sort_values(ascending=False)\n",
    "grouped_day_df_mean = grouped_day_mean.to_frame()\n",
    "grouped_day_df_mean "
   ]
  },
  {
   "cell_type": "code",
   "execution_count": 23,
   "id": "7fc4dadf",
   "metadata": {},
   "outputs": [
    {
     "data": {
      "image/png": "[encoded data removed]",
      "text/plain": [
       "<Figure size 1200x500 with 1 Axes>"
      ]
     },
     "metadata": {},
     "output_type": "display_data"
    }
   ],
   "source": [
    "plt.figure(figsize=(12,5))\n",
    "sns.barplot(x = grouped_day_df_mean.index, y = grouped_day_df_mean['Price'], ec='black')\n",
    "plt.title('Max price vs day of the week')\n",
    "plt.xlabel('Airline', size=15)\n",
    "plt.ylabel('Price', size=15)\n",
    "plt.show()"
   ]
  },
  {
   "cell_type": "markdown",
   "id": "f48b32a3",
   "metadata": {},
   "source": [
    "An important part in the ticket price plays the time of year. Usually people travel more during summer months in Europe and around Christmas time in December. Unfortunately, one of the limitations of this dataset is that it only provides data for January."
   ]
  },
  {
   "cell_type": "code",
   "execution_count": 24,
   "id": "42142f74",
   "metadata": {},
   "outputs": [
    {
     "data": {
      "text/plain": [
       "(Timestamp('2019-01-27 00:06:00'), Timestamp('2019-01-01 00:03:00'))"
      ]
     },
     "execution_count": 24,
     "metadata": {},
     "output_type": "execute_result"
    }
   ],
   "source": [
    "days_df['Date_of_Journey'].max(), days_df['Date_of_Journey'].min()"
   ]
  },
  {
   "cell_type": "markdown",
   "id": "59914906",
   "metadata": {},
   "source": [
    "# Feature Engineering"
   ]
  },
  {
   "cell_type": "markdown",
   "id": "7e067710",
   "metadata": {},
   "source": [
    "Which variables are relevant for training our model?"
   ]
  },
  {
   "cell_type": "markdown",
   "id": "557f4cac",
   "metadata": {},
   "source": [
    "First we need to prepare the dataset."
   ]
  },
  {
   "cell_type": "markdown",
   "id": "4faa16b0",
   "metadata": {},
   "source": [
    "Extracting day, month, year"
   ]
  },
  {
   "cell_type": "code",
   "execution_count": 25,
   "id": "03e89c70",
   "metadata": {},
   "outputs": [],
   "source": [
    "data['Date'] = data['Date_of_Journey'].str.split('/').str[0].astype(int)\n",
    "data['Month'] = data['Date_of_Journey'].str.split('/').str[1].astype(int)\n",
    "data['Year'] = data['Date_of_Journey'].str.split('/').str[2].astype(int)"
   ]
  },
  {
   "cell_type": "code",
   "execution_count": 26,
   "id": "ae63e4f7",
   "metadata": {},
   "outputs": [],
   "source": [
    "data = data.drop('Date_of_Journey', axis=1)"
   ]
  },
  {
   "cell_type": "markdown",
   "id": "923d7dd3",
   "metadata": {},
   "source": [
    "We can drop year as it's the same for all rows"
   ]
  },
  {
   "cell_type": "code",
   "execution_count": 27,
   "id": "a535c1ab",
   "metadata": {},
   "outputs": [
    {
     "data": {
      "text/plain": [
       "2019    13354\n",
       "Name: Year, dtype: int64"
      ]
     },
     "execution_count": 27,
     "metadata": {},
     "output_type": "execute_result"
    }
   ],
   "source": [
    "data['Year'].value_counts()"
   ]
  },
  {
   "cell_type": "code",
   "execution_count": 28,
   "id": "22d73704",
   "metadata": {},
   "outputs": [],
   "source": [
    "data = data.drop('Year', axis=1)"
   ]
  },
  {
   "cell_type": "markdown",
   "id": "1a7d00cc",
   "metadata": {},
   "source": [
    "Total_Stops column has strings. We can change it to numerical variable."
   ]
  },
  {
   "cell_type": "code",
   "execution_count": 29,
   "id": "39a19b05",
   "metadata": {},
   "outputs": [],
   "source": [
    "data['Total_Stops'] = data['Total_Stops'].str.split(' ').str[0]\n",
    "data['Total_Stops'] = data['Total_Stops'].replace('non-stop', 0)"
   ]
  },
  {
   "cell_type": "markdown",
   "id": "05f0ec8c",
   "metadata": {},
   "source": [
    "Additional_Info column.  More than 70% of them have no information therefore we will drop it.\n",
    "\n",
    "We will also drop Route column as the same information has been accounted for in Total_Stops columns, so that we avoid correlation."
   ]
  },
  {
   "cell_type": "code",
   "execution_count": 30,
   "id": "a4d9ef18",
   "metadata": {},
   "outputs": [
    {
     "data": {
      "text/plain": [
       "No info                         10493\n",
       "In-flight meal not included      2426\n",
       "No check-in baggage included      396\n",
       "1 Long layover                     20\n",
       "Change airports                     8\n",
       "Business class                      5\n",
       "No Info                             3\n",
       "1 Short layover                     1\n",
       "Red-eye flight                      1\n",
       "2 Long layover                      1\n",
       "Name: Additional_Info, dtype: int64"
      ]
     },
     "execution_count": 30,
     "metadata": {},
     "output_type": "execute_result"
    }
   ],
   "source": [
    "data['Additional_Info'].value_counts()"
   ]
  },
  {
   "cell_type": "code",
   "execution_count": 31,
   "id": "51705d5d",
   "metadata": {},
   "outputs": [],
   "source": [
    "data = data.drop(['Additional_Info', 'Route'], axis=1) "
   ]
  },
  {
   "cell_type": "code",
   "execution_count": 32,
   "id": "69d68cdb",
   "metadata": {},
   "outputs": [],
   "source": [
    "data['Arrival_Time'] = data['Arrival_Time'].str.split(' ').str[0]"
   ]
  },
  {
   "cell_type": "markdown",
   "id": "6730f175",
   "metadata": {},
   "source": [
    "Find the duration in minutes to remove 'h' and 'm':"
   ]
  },
  {
   "cell_type": "code",
   "execution_count": 33,
   "id": "23f14f33",
   "metadata": {},
   "outputs": [],
   "source": [
    "data['Duration_hr'] = data['Duration'].str.split('h').str[0]"
   ]
  },
  {
   "cell_type": "markdown",
   "id": "79c63931",
   "metadata": {},
   "source": [
    "How many flights were below 1h?"
   ]
  },
  {
   "cell_type": "code",
   "execution_count": 34,
   "id": "97d95c90",
   "metadata": {},
   "outputs": [
    {
     "data": {
      "text/plain": [
       "2"
      ]
     },
     "execution_count": 34,
     "metadata": {},
     "output_type": "execute_result"
    }
   ],
   "source": [
    "data['Duration_hr'].str.contains('m').sum()"
   ]
  },
  {
   "cell_type": "code",
   "execution_count": 35,
   "id": "a2c980cc",
   "metadata": {},
   "outputs": [
    {
     "data": {
      "text/html": [
       "<div>\n",
       "<style scoped>\n",
       "    .dataframe tbody tr th:only-of-type {\n",
       "        vertical-align: middle;\n",
       "    }\n",
       "\n",
       "    .dataframe tbody tr th {\n",
       "        vertical-align: top;\n",
       "    }\n",
       "\n",
       "    .dataframe thead th {\n",
       "        text-align: right;\n",
       "    }\n",
       "</style>\n",
       "<table border=\"1\" class=\"dataframe\">\n",
       "  <thead>\n",
       "    <tr style=\"text-align: right;\">\n",
       "      <th></th>\n",
       "      <th>Airline</th>\n",
       "      <th>Source</th>\n",
       "      <th>Destination</th>\n",
       "      <th>Dep_Time</th>\n",
       "      <th>Arrival_Time</th>\n",
       "      <th>Duration</th>\n",
       "      <th>Total_Stops</th>\n",
       "      <th>Price</th>\n",
       "      <th>Date</th>\n",
       "      <th>Month</th>\n",
       "      <th>Duration_hr</th>\n",
       "    </tr>\n",
       "  </thead>\n",
       "  <tbody>\n",
       "    <tr>\n",
       "      <th>6474</th>\n",
       "      <td>Air India</td>\n",
       "      <td>Mumbai</td>\n",
       "      <td>Hyderabad</td>\n",
       "      <td>16:50</td>\n",
       "      <td>16:55</td>\n",
       "      <td>5m</td>\n",
       "      <td>2</td>\n",
       "      <td>17327.0</td>\n",
       "      <td>6</td>\n",
       "      <td>3</td>\n",
       "      <td>5m</td>\n",
       "    </tr>\n",
       "    <tr>\n",
       "      <th>2660</th>\n",
       "      <td>Air India</td>\n",
       "      <td>Mumbai</td>\n",
       "      <td>Hyderabad</td>\n",
       "      <td>16:50</td>\n",
       "      <td>16:55</td>\n",
       "      <td>5m</td>\n",
       "      <td>2</td>\n",
       "      <td>NaN</td>\n",
       "      <td>12</td>\n",
       "      <td>3</td>\n",
       "      <td>5m</td>\n",
       "    </tr>\n",
       "  </tbody>\n",
       "</table>\n",
       "</div>"
      ],
      "text/plain": [
       "        Airline  Source Destination Dep_Time Arrival_Time Duration  \\\n",
       "6474  Air India  Mumbai   Hyderabad    16:50        16:55       5m   \n",
       "2660  Air India  Mumbai   Hyderabad    16:50        16:55       5m   \n",
       "\n",
       "     Total_Stops    Price  Date  Month Duration_hr  \n",
       "6474           2  17327.0     6      3          5m  \n",
       "2660           2      NaN    12      3          5m  "
      ]
     },
     "execution_count": 35,
     "metadata": {},
     "output_type": "execute_result"
    }
   ],
   "source": [
    "data[data['Duration_hr'].str.contains('m')]"
   ]
  },
  {
   "cell_type": "code",
   "execution_count": 36,
   "id": "6758a069",
   "metadata": {},
   "outputs": [],
   "source": [
    "data['Duration_hr'] = data['Duration_hr'].replace('5m', 0)"
   ]
  },
  {
   "cell_type": "code",
   "execution_count": 37,
   "id": "362dea18",
   "metadata": {},
   "outputs": [],
   "source": [
    "data['Duration_min'] = data['Duration'].str.split(' ').str[1].str.split('m').str[0]\n",
    "data['Duration_min'].fillna('0', inplace=True)"
   ]
  },
  {
   "cell_type": "code",
   "execution_count": 38,
   "id": "96d15329",
   "metadata": {},
   "outputs": [],
   "source": [
    "data['Duration'] = (data['Duration_hr'].astype(int))* 60 + data['Duration_min'].astype(int)\n",
    "data = data.drop(['Duration_hr', 'Duration_min'], axis=1)"
   ]
  },
  {
   "cell_type": "code",
   "execution_count": 39,
   "id": "15b8be2d",
   "metadata": {},
   "outputs": [
    {
     "data": {
      "text/html": [
       "<div>\n",
       "<style scoped>\n",
       "    .dataframe tbody tr th:only-of-type {\n",
       "        vertical-align: middle;\n",
       "    }\n",
       "\n",
       "    .dataframe tbody tr th {\n",
       "        vertical-align: top;\n",
       "    }\n",
       "\n",
       "    .dataframe thead th {\n",
       "        text-align: right;\n",
       "    }\n",
       "</style>\n",
       "<table border=\"1\" class=\"dataframe\">\n",
       "  <thead>\n",
       "    <tr style=\"text-align: right;\">\n",
       "      <th></th>\n",
       "      <th>Airline</th>\n",
       "      <th>Source</th>\n",
       "      <th>Destination</th>\n",
       "      <th>Dep_Time</th>\n",
       "      <th>Arrival_Time</th>\n",
       "      <th>Duration</th>\n",
       "      <th>Total_Stops</th>\n",
       "      <th>Price</th>\n",
       "      <th>Date</th>\n",
       "      <th>Month</th>\n",
       "    </tr>\n",
       "  </thead>\n",
       "  <tbody>\n",
       "    <tr>\n",
       "      <th>0</th>\n",
       "      <td>IndiGo</td>\n",
       "      <td>Banglore</td>\n",
       "      <td>New Delhi</td>\n",
       "      <td>22:20</td>\n",
       "      <td>01:10</td>\n",
       "      <td>170</td>\n",
       "      <td>0</td>\n",
       "      <td>3897.0</td>\n",
       "      <td>24</td>\n",
       "      <td>3</td>\n",
       "    </tr>\n",
       "    <tr>\n",
       "      <th>1</th>\n",
       "      <td>Air India</td>\n",
       "      <td>Kolkata</td>\n",
       "      <td>Banglore</td>\n",
       "      <td>05:50</td>\n",
       "      <td>13:15</td>\n",
       "      <td>445</td>\n",
       "      <td>2</td>\n",
       "      <td>7662.0</td>\n",
       "      <td>1</td>\n",
       "      <td>5</td>\n",
       "    </tr>\n",
       "    <tr>\n",
       "      <th>2</th>\n",
       "      <td>Jet Airways</td>\n",
       "      <td>Delhi</td>\n",
       "      <td>Cochin</td>\n",
       "      <td>09:25</td>\n",
       "      <td>04:25</td>\n",
       "      <td>1140</td>\n",
       "      <td>2</td>\n",
       "      <td>13882.0</td>\n",
       "      <td>9</td>\n",
       "      <td>6</td>\n",
       "    </tr>\n",
       "    <tr>\n",
       "      <th>3</th>\n",
       "      <td>IndiGo</td>\n",
       "      <td>Kolkata</td>\n",
       "      <td>Banglore</td>\n",
       "      <td>18:05</td>\n",
       "      <td>23:30</td>\n",
       "      <td>325</td>\n",
       "      <td>1</td>\n",
       "      <td>6218.0</td>\n",
       "      <td>12</td>\n",
       "      <td>5</td>\n",
       "    </tr>\n",
       "    <tr>\n",
       "      <th>4</th>\n",
       "      <td>IndiGo</td>\n",
       "      <td>Banglore</td>\n",
       "      <td>New Delhi</td>\n",
       "      <td>16:50</td>\n",
       "      <td>21:35</td>\n",
       "      <td>285</td>\n",
       "      <td>1</td>\n",
       "      <td>13302.0</td>\n",
       "      <td>1</td>\n",
       "      <td>3</td>\n",
       "    </tr>\n",
       "  </tbody>\n",
       "</table>\n",
       "</div>"
      ],
      "text/plain": [
       "       Airline    Source Destination Dep_Time Arrival_Time  Duration  \\\n",
       "0       IndiGo  Banglore   New Delhi    22:20        01:10       170   \n",
       "1    Air India   Kolkata    Banglore    05:50        13:15       445   \n",
       "2  Jet Airways     Delhi      Cochin    09:25        04:25      1140   \n",
       "3       IndiGo   Kolkata    Banglore    18:05        23:30       325   \n",
       "4       IndiGo  Banglore   New Delhi    16:50        21:35       285   \n",
       "\n",
       "  Total_Stops    Price  Date  Month  \n",
       "0           0   3897.0    24      3  \n",
       "1           2   7662.0     1      5  \n",
       "2           2  13882.0     9      6  \n",
       "3           1   6218.0    12      5  \n",
       "4           1  13302.0     1      3  "
      ]
     },
     "execution_count": 39,
     "metadata": {},
     "output_type": "execute_result"
    }
   ],
   "source": [
    "data.head()"
   ]
  },
  {
   "cell_type": "markdown",
   "id": "2e77dd0f",
   "metadata": {},
   "source": [
    "Extracting hours and minutes from departure and arrival time."
   ]
  },
  {
   "cell_type": "code",
   "execution_count": 40,
   "id": "beb9c2c5",
   "metadata": {},
   "outputs": [],
   "source": [
    "data['Dep_Hour'] = data['Dep_Time'].str.split(':').str[0].astype(int)\n",
    "data['Dep_Min'] = data['Dep_Time'].str.split(':').str[1].astype(int)\n",
    "\n",
    "data['Arrival_Hour'] = data['Arrival_Time'].str.split(':').str[0].astype(int)\n",
    "data['Arrival_Min'] = data['Arrival_Time'].str.split(':').str[1].astype(int)"
   ]
  },
  {
   "cell_type": "code",
   "execution_count": 41,
   "id": "096bb7ca",
   "metadata": {},
   "outputs": [],
   "source": [
    "data = data.drop(['Dep_Time', 'Arrival_Time'], axis=1)"
   ]
  },
  {
   "cell_type": "markdown",
   "id": "eb8b12f8",
   "metadata": {},
   "source": [
    "Checking for null values"
   ]
  },
  {
   "cell_type": "code",
   "execution_count": 42,
   "id": "6c4b7ddb",
   "metadata": {},
   "outputs": [
    {
     "data": {
      "text/plain": [
       "Airline            0\n",
       "Source             0\n",
       "Destination        0\n",
       "Duration           0\n",
       "Total_Stops        1\n",
       "Price           2671\n",
       "Date               0\n",
       "Month              0\n",
       "Dep_Hour           0\n",
       "Dep_Min            0\n",
       "Arrival_Hour       0\n",
       "Arrival_Min        0\n",
       "dtype: int64"
      ]
     },
     "execution_count": 42,
     "metadata": {},
     "output_type": "execute_result"
    }
   ],
   "source": [
    "data.isnull().sum()"
   ]
  },
  {
   "cell_type": "code",
   "execution_count": 43,
   "id": "36b47aca",
   "metadata": {},
   "outputs": [
    {
     "data": {
      "text/html": [
       "<div>\n",
       "<style scoped>\n",
       "    .dataframe tbody tr th:only-of-type {\n",
       "        vertical-align: middle;\n",
       "    }\n",
       "\n",
       "    .dataframe tbody tr th {\n",
       "        vertical-align: top;\n",
       "    }\n",
       "\n",
       "    .dataframe thead th {\n",
       "        text-align: right;\n",
       "    }\n",
       "</style>\n",
       "<table border=\"1\" class=\"dataframe\">\n",
       "  <thead>\n",
       "    <tr style=\"text-align: right;\">\n",
       "      <th></th>\n",
       "      <th>Airline</th>\n",
       "      <th>Source</th>\n",
       "      <th>Destination</th>\n",
       "      <th>Duration</th>\n",
       "      <th>Total_Stops</th>\n",
       "      <th>Price</th>\n",
       "      <th>Date</th>\n",
       "      <th>Month</th>\n",
       "      <th>Dep_Hour</th>\n",
       "      <th>Dep_Min</th>\n",
       "      <th>Arrival_Hour</th>\n",
       "      <th>Arrival_Min</th>\n",
       "    </tr>\n",
       "  </thead>\n",
       "  <tbody>\n",
       "    <tr>\n",
       "      <th>9039</th>\n",
       "      <td>Air India</td>\n",
       "      <td>Delhi</td>\n",
       "      <td>Cochin</td>\n",
       "      <td>1420</td>\n",
       "      <td>NaN</td>\n",
       "      <td>7480.0</td>\n",
       "      <td>6</td>\n",
       "      <td>5</td>\n",
       "      <td>9</td>\n",
       "      <td>45</td>\n",
       "      <td>9</td>\n",
       "      <td>25</td>\n",
       "    </tr>\n",
       "  </tbody>\n",
       "</table>\n",
       "</div>"
      ],
      "text/plain": [
       "        Airline Source Destination  Duration Total_Stops   Price  Date  Month  \\\n",
       "9039  Air India  Delhi      Cochin      1420         NaN  7480.0     6      5   \n",
       "\n",
       "      Dep_Hour  Dep_Min  Arrival_Hour  Arrival_Min  \n",
       "9039         9       45             9           25  "
      ]
     },
     "execution_count": 43,
     "metadata": {},
     "output_type": "execute_result"
    }
   ],
   "source": [
    "data[data['Total_Stops'].isnull()]"
   ]
  },
  {
   "cell_type": "markdown",
   "id": "092d1ca3",
   "metadata": {},
   "source": [
    "Missing value is in train dataset.W\n",
    "\n",
    "We will input the most frequent value"
   ]
  },
  {
   "cell_type": "code",
   "execution_count": 44,
   "id": "b55091e3",
   "metadata": {},
   "outputs": [
    {
     "data": {
      "text/plain": [
       "1    7056\n",
       "0    4340\n",
       "2    1899\n",
       "3      56\n",
       "4       2\n",
       "Name: Total_Stops, dtype: int64"
      ]
     },
     "execution_count": 44,
     "metadata": {},
     "output_type": "execute_result"
    }
   ],
   "source": [
    "data['Total_Stops'].value_counts()"
   ]
  },
  {
   "cell_type": "code",
   "execution_count": 45,
   "id": "340f0b17",
   "metadata": {},
   "outputs": [],
   "source": [
    "data['Total_Stops'] = data['Total_Stops'].fillna('1')\n",
    "data['Total_Stops'] = data['Total_Stops'].astype(int)"
   ]
  },
  {
   "cell_type": "code",
   "execution_count": 46,
   "id": "c3f40f0e",
   "metadata": {},
   "outputs": [
    {
     "data": {
      "text/html": [
       "<div>\n",
       "<style scoped>\n",
       "    .dataframe tbody tr th:only-of-type {\n",
       "        vertical-align: middle;\n",
       "    }\n",
       "\n",
       "    .dataframe tbody tr th {\n",
       "        vertical-align: top;\n",
       "    }\n",
       "\n",
       "    .dataframe thead th {\n",
       "        text-align: right;\n",
       "    }\n",
       "</style>\n",
       "<table border=\"1\" class=\"dataframe\">\n",
       "  <thead>\n",
       "    <tr style=\"text-align: right;\">\n",
       "      <th></th>\n",
       "      <th>Airline</th>\n",
       "      <th>Source</th>\n",
       "      <th>Destination</th>\n",
       "      <th>Duration</th>\n",
       "      <th>Total_Stops</th>\n",
       "      <th>Price</th>\n",
       "      <th>Date</th>\n",
       "      <th>Month</th>\n",
       "      <th>Dep_Hour</th>\n",
       "      <th>Dep_Min</th>\n",
       "      <th>Arrival_Hour</th>\n",
       "      <th>Arrival_Min</th>\n",
       "    </tr>\n",
       "  </thead>\n",
       "  <tbody>\n",
       "    <tr>\n",
       "      <th>0</th>\n",
       "      <td>IndiGo</td>\n",
       "      <td>Banglore</td>\n",
       "      <td>New Delhi</td>\n",
       "      <td>170</td>\n",
       "      <td>0</td>\n",
       "      <td>3897.0</td>\n",
       "      <td>24</td>\n",
       "      <td>3</td>\n",
       "      <td>22</td>\n",
       "      <td>20</td>\n",
       "      <td>1</td>\n",
       "      <td>10</td>\n",
       "    </tr>\n",
       "    <tr>\n",
       "      <th>1</th>\n",
       "      <td>Air India</td>\n",
       "      <td>Kolkata</td>\n",
       "      <td>Banglore</td>\n",
       "      <td>445</td>\n",
       "      <td>2</td>\n",
       "      <td>7662.0</td>\n",
       "      <td>1</td>\n",
       "      <td>5</td>\n",
       "      <td>5</td>\n",
       "      <td>50</td>\n",
       "      <td>13</td>\n",
       "      <td>15</td>\n",
       "    </tr>\n",
       "    <tr>\n",
       "      <th>2</th>\n",
       "      <td>Jet Airways</td>\n",
       "      <td>Delhi</td>\n",
       "      <td>Cochin</td>\n",
       "      <td>1140</td>\n",
       "      <td>2</td>\n",
       "      <td>13882.0</td>\n",
       "      <td>9</td>\n",
       "      <td>6</td>\n",
       "      <td>9</td>\n",
       "      <td>25</td>\n",
       "      <td>4</td>\n",
       "      <td>25</td>\n",
       "    </tr>\n",
       "    <tr>\n",
       "      <th>3</th>\n",
       "      <td>IndiGo</td>\n",
       "      <td>Kolkata</td>\n",
       "      <td>Banglore</td>\n",
       "      <td>325</td>\n",
       "      <td>1</td>\n",
       "      <td>6218.0</td>\n",
       "      <td>12</td>\n",
       "      <td>5</td>\n",
       "      <td>18</td>\n",
       "      <td>5</td>\n",
       "      <td>23</td>\n",
       "      <td>30</td>\n",
       "    </tr>\n",
       "    <tr>\n",
       "      <th>4</th>\n",
       "      <td>IndiGo</td>\n",
       "      <td>Banglore</td>\n",
       "      <td>New Delhi</td>\n",
       "      <td>285</td>\n",
       "      <td>1</td>\n",
       "      <td>13302.0</td>\n",
       "      <td>1</td>\n",
       "      <td>3</td>\n",
       "      <td>16</td>\n",
       "      <td>50</td>\n",
       "      <td>21</td>\n",
       "      <td>35</td>\n",
       "    </tr>\n",
       "  </tbody>\n",
       "</table>\n",
       "</div>"
      ],
      "text/plain": [
       "       Airline    Source Destination  Duration  Total_Stops    Price  Date  \\\n",
       "0       IndiGo  Banglore   New Delhi       170            0   3897.0    24   \n",
       "1    Air India   Kolkata    Banglore       445            2   7662.0     1   \n",
       "2  Jet Airways     Delhi      Cochin      1140            2  13882.0     9   \n",
       "3       IndiGo   Kolkata    Banglore       325            1   6218.0    12   \n",
       "4       IndiGo  Banglore   New Delhi       285            1  13302.0     1   \n",
       "\n",
       "   Month  Dep_Hour  Dep_Min  Arrival_Hour  Arrival_Min  \n",
       "0      3        22       20             1           10  \n",
       "1      5         5       50            13           15  \n",
       "2      6         9       25             4           25  \n",
       "3      5        18        5            23           30  \n",
       "4      3        16       50            21           35  "
      ]
     },
     "execution_count": 46,
     "metadata": {},
     "output_type": "execute_result"
    }
   ],
   "source": [
    "data.head()"
   ]
  },
  {
   "cell_type": "markdown",
   "id": "e9254fe3",
   "metadata": {},
   "source": [
    "# Encoding catogerical variables"
   ]
  },
  {
   "cell_type": "markdown",
   "id": "849677f5",
   "metadata": {},
   "source": [
    "Features with Categorical data:\n",
    " - Airline\n",
    " - Source\n",
    " - Destination\n",
    " \n",
    "We will apply Apply Label Encoder to these features."
   ]
  },
  {
   "cell_type": "code",
   "execution_count": 47,
   "id": "e26ad12d",
   "metadata": {},
   "outputs": [],
   "source": [
    "le = LabelEncoder()\n",
    "for i in ['Airline', 'Source', 'Destination']:\n",
    "    data[i] = le.fit_transform(data[i])"
   ]
  },
  {
   "cell_type": "code",
   "execution_count": 48,
   "id": "a7bf338f",
   "metadata": {},
   "outputs": [
    {
     "data": {
      "text/html": [
       "<div>\n",
       "<style scoped>\n",
       "    .dataframe tbody tr th:only-of-type {\n",
       "        vertical-align: middle;\n",
       "    }\n",
       "\n",
       "    .dataframe tbody tr th {\n",
       "        vertical-align: top;\n",
       "    }\n",
       "\n",
       "    .dataframe thead th {\n",
       "        text-align: right;\n",
       "    }\n",
       "</style>\n",
       "<table border=\"1\" class=\"dataframe\">\n",
       "  <thead>\n",
       "    <tr style=\"text-align: right;\">\n",
       "      <th></th>\n",
       "      <th>Airline</th>\n",
       "      <th>Source</th>\n",
       "      <th>Destination</th>\n",
       "      <th>Duration</th>\n",
       "      <th>Total_Stops</th>\n",
       "      <th>Price</th>\n",
       "      <th>Date</th>\n",
       "      <th>Month</th>\n",
       "      <th>Dep_Hour</th>\n",
       "      <th>Dep_Min</th>\n",
       "      <th>Arrival_Hour</th>\n",
       "      <th>Arrival_Min</th>\n",
       "    </tr>\n",
       "  </thead>\n",
       "  <tbody>\n",
       "    <tr>\n",
       "      <th>0</th>\n",
       "      <td>3</td>\n",
       "      <td>0</td>\n",
       "      <td>5</td>\n",
       "      <td>170</td>\n",
       "      <td>0</td>\n",
       "      <td>3897.0</td>\n",
       "      <td>24</td>\n",
       "      <td>3</td>\n",
       "      <td>22</td>\n",
       "      <td>20</td>\n",
       "      <td>1</td>\n",
       "      <td>10</td>\n",
       "    </tr>\n",
       "    <tr>\n",
       "      <th>1</th>\n",
       "      <td>1</td>\n",
       "      <td>3</td>\n",
       "      <td>0</td>\n",
       "      <td>445</td>\n",
       "      <td>2</td>\n",
       "      <td>7662.0</td>\n",
       "      <td>1</td>\n",
       "      <td>5</td>\n",
       "      <td>5</td>\n",
       "      <td>50</td>\n",
       "      <td>13</td>\n",
       "      <td>15</td>\n",
       "    </tr>\n",
       "    <tr>\n",
       "      <th>2</th>\n",
       "      <td>4</td>\n",
       "      <td>2</td>\n",
       "      <td>1</td>\n",
       "      <td>1140</td>\n",
       "      <td>2</td>\n",
       "      <td>13882.0</td>\n",
       "      <td>9</td>\n",
       "      <td>6</td>\n",
       "      <td>9</td>\n",
       "      <td>25</td>\n",
       "      <td>4</td>\n",
       "      <td>25</td>\n",
       "    </tr>\n",
       "    <tr>\n",
       "      <th>3</th>\n",
       "      <td>3</td>\n",
       "      <td>3</td>\n",
       "      <td>0</td>\n",
       "      <td>325</td>\n",
       "      <td>1</td>\n",
       "      <td>6218.0</td>\n",
       "      <td>12</td>\n",
       "      <td>5</td>\n",
       "      <td>18</td>\n",
       "      <td>5</td>\n",
       "      <td>23</td>\n",
       "      <td>30</td>\n",
       "    </tr>\n",
       "    <tr>\n",
       "      <th>4</th>\n",
       "      <td>3</td>\n",
       "      <td>0</td>\n",
       "      <td>5</td>\n",
       "      <td>285</td>\n",
       "      <td>1</td>\n",
       "      <td>13302.0</td>\n",
       "      <td>1</td>\n",
       "      <td>3</td>\n",
       "      <td>16</td>\n",
       "      <td>50</td>\n",
       "      <td>21</td>\n",
       "      <td>35</td>\n",
       "    </tr>\n",
       "  </tbody>\n",
       "</table>\n",
       "</div>"
      ],
      "text/plain": [
       "   Airline  Source  Destination  Duration  Total_Stops    Price  Date  Month  \\\n",
       "0        3       0            5       170            0   3897.0    24      3   \n",
       "1        1       3            0       445            2   7662.0     1      5   \n",
       "2        4       2            1      1140            2  13882.0     9      6   \n",
       "3        3       3            0       325            1   6218.0    12      5   \n",
       "4        3       0            5       285            1  13302.0     1      3   \n",
       "\n",
       "   Dep_Hour  Dep_Min  Arrival_Hour  Arrival_Min  \n",
       "0        22       20             1           10  \n",
       "1         5       50            13           15  \n",
       "2         9       25             4           25  \n",
       "3        18        5            23           30  \n",
       "4        16       50            21           35  "
      ]
     },
     "execution_count": 48,
     "metadata": {},
     "output_type": "execute_result"
    }
   ],
   "source": [
    "data.head()"
   ]
  },
  {
   "cell_type": "markdown",
   "id": "b761add0",
   "metadata": {},
   "source": [
    "# Feature correlation"
   ]
  },
  {
   "cell_type": "markdown",
   "id": "84cf1346",
   "metadata": {},
   "source": [
    "Let's look at the heatmap to see which variables might be correlated."
   ]
  },
  {
   "cell_type": "code",
   "execution_count": 49,
   "id": "00919f6e",
   "metadata": {},
   "outputs": [
    {
     "data": {
      "image/png": "[encoded data removed]",
      "text/plain": [
       "<Figure size 1200x500 with 2 Axes>"
      ]
     },
     "metadata": {},
     "output_type": "display_data"
    }
   ],
   "source": [
    "plt.figure(figsize=(12,5))\n",
    "sns.heatmap(data.corr(), annot=True, cmap=\"rocket_r\")\n",
    "plt.title('Heatmap showing correlations between features')\n",
    "plt.show()"
   ]
  },
  {
   "cell_type": "markdown",
   "id": "91be37ff",
   "metadata": {},
   "source": [
    "We can notice high correlation between:\n",
    " - Price & Duration\n",
    " - Price & Total Stops\n",
    " - Duration & Total Stops"
   ]
  },
  {
   "cell_type": "markdown",
   "id": "d81e8f54",
   "metadata": {},
   "source": [
    "# Train Test Split"
   ]
  },
  {
   "cell_type": "code",
   "execution_count": 50,
   "id": "64b2af6b",
   "metadata": {},
   "outputs": [],
   "source": [
    "train_df=data[0:10683]\n",
    "test_df=data[10683:]"
   ]
  },
  {
   "cell_type": "code",
   "execution_count": 51,
   "id": "1812403e",
   "metadata": {},
   "outputs": [],
   "source": [
    "X = train_df.drop('Price', axis=1)\n",
    "y = train_df['Price']"
   ]
  },
  {
   "cell_type": "code",
   "execution_count": 52,
   "id": "363c7ad7",
   "metadata": {},
   "outputs": [
    {
     "data": {
      "text/plain": [
       "0"
      ]
     },
     "execution_count": 52,
     "metadata": {},
     "output_type": "execute_result"
    }
   ],
   "source": [
    "y.isnull().sum()"
   ]
  },
  {
   "cell_type": "code",
   "execution_count": 53,
   "id": "c8e77140",
   "metadata": {},
   "outputs": [],
   "source": [
    "X_train, X_test, y_train, y_test = train_test_split(X,y, test_size=0.25)"
   ]
  },
  {
   "cell_type": "markdown",
   "id": "7184abef",
   "metadata": {},
   "source": [
    "# Models"
   ]
  },
  {
   "cell_type": "code",
   "execution_count": 54,
   "id": "3ba40248",
   "metadata": {},
   "outputs": [],
   "source": [
    "def train_algo(algorithm: str) -> str:\n",
    "    \"\"\"\n",
    "    This function takes algorithm given, fits and predicts data and returns r2 score, MAE and MSE.\n",
    "    \n",
    "    Parameters:\n",
    "    algorithm: regressor algorithm used for prediction\n",
    "    \n",
    "    Returns:\n",
    "    str: r2 score, MAE, MSE\n",
    "    \"\"\"\n",
    "    print('Prediction for ' + str(algorithm))\n",
    "    model = algorithm.fit(X_train, y_train)\n",
    "    y_pred = model.predict(X_test)\n",
    "    r2 = r2_score(y_test, y_pred)\n",
    "    print('r2 score is: ' + str(r2))\n",
    "    print('MAE:',(mean_absolute_error(y_test,y_pred)))\n",
    "    print('MSE:',(mean_squared_error(y_test,y_pred)))\n",
    "    return r2"
   ]
  },
  {
   "cell_type": "markdown",
   "id": "d95f7a78",
   "metadata": {},
   "source": [
    "K-nearest Neigbours Regressor"
   ]
  },
  {
   "cell_type": "code",
   "execution_count": 55,
   "id": "64185a14",
   "metadata": {},
   "outputs": [
    {
     "name": "stdout",
     "output_type": "stream",
     "text": [
      "Prediction for KNeighborsRegressor()\n",
      "r2 score is: 0.5726763449769507\n",
      "MAE: 1791.6727817296892\n",
      "MSE: 8111467.312826656\n"
     ]
    }
   ],
   "source": [
    "knn = train_algo(KNeighborsRegressor())"
   ]
  },
  {
   "cell_type": "markdown",
   "id": "cdcc082b",
   "metadata": {},
   "source": [
    "Decision Tree Regressor"
   ]
  },
  {
   "cell_type": "code",
   "execution_count": 56,
   "id": "af991cdf",
   "metadata": {},
   "outputs": [
    {
     "name": "stdout",
     "output_type": "stream",
     "text": [
      "Prediction for DecisionTreeRegressor()\n",
      "r2 score is: 0.6772267122820574\n",
      "MAE: 1325.8013790091102\n",
      "MSE: 6126889.86907702\n"
     ]
    }
   ],
   "source": [
    "dt = train_algo(DecisionTreeRegressor())"
   ]
  },
  {
   "cell_type": "markdown",
   "id": "6df2cbe5",
   "metadata": {},
   "source": [
    "Random Forest Regressor"
   ]
  },
  {
   "cell_type": "code",
   "execution_count": 57,
   "id": "f93f013a",
   "metadata": {},
   "outputs": [
    {
     "name": "stdout",
     "output_type": "stream",
     "text": [
      "Prediction for RandomForestRegressor()\n",
      "r2 score is: 0.8072401575680536\n",
      "MAE: 1141.368258312936\n",
      "MSE: 3658971.701503427\n"
     ]
    }
   ],
   "source": [
    "rf = train_algo(RandomForestRegressor())"
   ]
  },
  {
   "cell_type": "markdown",
   "id": "7fcd3599",
   "metadata": {},
   "source": [
    "Presenting accuracies of the models in a dataframe"
   ]
  },
  {
   "cell_type": "code",
   "execution_count": 58,
   "id": "66b6149a",
   "metadata": {},
   "outputs": [
    {
     "data": {
      "text/html": [
       "<div>\n",
       "<style scoped>\n",
       "    .dataframe tbody tr th:only-of-type {\n",
       "        vertical-align: middle;\n",
       "    }\n",
       "\n",
       "    .dataframe tbody tr th {\n",
       "        vertical-align: top;\n",
       "    }\n",
       "\n",
       "    .dataframe thead th {\n",
       "        text-align: right;\n",
       "    }\n",
       "</style>\n",
       "<table border=\"1\" class=\"dataframe\">\n",
       "  <thead>\n",
       "    <tr style=\"text-align: right;\">\n",
       "      <th></th>\n",
       "      <th>Model</th>\n",
       "      <th>Accuracy</th>\n",
       "    </tr>\n",
       "  </thead>\n",
       "  <tbody>\n",
       "    <tr>\n",
       "      <th>0</th>\n",
       "      <td>K-Nearest Naighbour</td>\n",
       "      <td>57.267634</td>\n",
       "    </tr>\n",
       "    <tr>\n",
       "      <th>1</th>\n",
       "      <td>DecisionTreeRegressor</td>\n",
       "      <td>67.722671</td>\n",
       "    </tr>\n",
       "    <tr>\n",
       "      <th>2</th>\n",
       "      <td>RandomForestRegressor</td>\n",
       "      <td>80.724016</td>\n",
       "    </tr>\n",
       "  </tbody>\n",
       "</table>\n",
       "</div>"
      ],
      "text/plain": [
       "                   Model   Accuracy\n",
       "0    K-Nearest Naighbour  57.267634\n",
       "1  DecisionTreeRegressor  67.722671\n",
       "2  RandomForestRegressor  80.724016"
      ]
     },
     "execution_count": 58,
     "metadata": {},
     "output_type": "execute_result"
    }
   ],
   "source": [
    "score_df = pd.DataFrame({'Model': ['K-Nearest Naighbour', 'DecisionTreeRegressor', 'RandomForestRegressor'], \n",
    "                         'Accuracy' : [knn*100, dt*100, rf*100]})\n",
    "score_df"
   ]
  },
  {
   "cell_type": "markdown",
   "id": "011a8358",
   "metadata": {},
   "source": [
    "Random Forest seems to have the highest R2 score. Let's try hypterparameter tuning for this model."
   ]
  },
  {
   "cell_type": "code",
   "execution_count": 59,
   "id": "b0552e48",
   "metadata": {},
   "outputs": [
    {
     "data": {
      "text/plain": [
       "RandomizedSearchCV(cv=3, estimator=RandomForestRegressor(), n_jobs=-1,\n",
       "                   param_distributions={'max_depth': [5, 10, 15, 20],\n",
       "                                        'max_features': ['auto', 'sqrt'],\n",
       "                                        'min_samples_leaf': [1, 2, 5, 10],\n",
       "                                        'min_samples_split': [2, 5, 10, 15,\n",
       "                                                              100],\n",
       "                                        'n_estimators': [120, 150, 180, 190,\n",
       "                                                         195, 200, 220, 250]})"
      ]
     },
     "execution_count": 59,
     "metadata": {},
     "output_type": "execute_result"
    }
   ],
   "source": [
    "random_search = {'n_estimators' : [120, 150, 180, 190, 195, 200, 220, 250],\n",
    "                 'max_features':['auto','sqrt'],\n",
    "                 'max_depth':[5,10,15,20],\n",
    "                 'min_samples_split' : [2, 5, 10, 15, 100],\n",
    "                 'min_samples_leaf' : [1, 2, 5, 10]}\n",
    "rf_regressor = RandomForestRegressor()\n",
    "rf_model = RandomizedSearchCV(estimator = rf_regressor, param_distributions = random_search, cv=3, n_jobs=-1)\n",
    "rf_model.fit(X_train, y_train)"
   ]
  },
  {
   "cell_type": "code",
   "execution_count": 60,
   "id": "e7f77947",
   "metadata": {},
   "outputs": [
    {
     "data": {
      "text/plain": [
       "{'n_estimators': 220,\n",
       " 'min_samples_split': 2,\n",
       " 'min_samples_leaf': 1,\n",
       " 'max_features': 'auto',\n",
       " 'max_depth': 15}"
      ]
     },
     "execution_count": 60,
     "metadata": {},
     "output_type": "execute_result"
    }
   ],
   "source": [
    "rf_model.best_params_"
   ]
  },
  {
   "cell_type": "code",
   "execution_count": 61,
   "id": "37fae722",
   "metadata": {},
   "outputs": [
    {
     "data": {
      "text/plain": [
       "0.8302123267080054"
      ]
     },
     "execution_count": 61,
     "metadata": {},
     "output_type": "execute_result"
    }
   ],
   "source": [
    "pred = rf_model.predict(X_test)\n",
    "r2_score(y_test, pred)"
   ]
  },
  {
   "cell_type": "code",
   "execution_count": 62,
   "id": "51486665",
   "metadata": {},
   "outputs": [
    {
     "name": "stdout",
     "output_type": "stream",
     "text": [
      "r2_score: 0.8302123267080054\n",
      "MAE: 1091.0294366797252\n",
      "MSE: 3222913.4658005754\n",
      "RMSE: 1795.2474664515128\n"
     ]
    }
   ],
   "source": [
    "print('r2_score:',r2_score(y_test,pred))\n",
    "print('MAE:', mean_absolute_error(y_test, pred))\n",
    "print('MSE:', mean_squared_error(y_test, pred))\n",
    "print('RMSE:', np.sqrt(mean_squared_error(y_test, pred)))"
   ]
  },
  {
   "cell_type": "markdown",
   "id": "cc3f5360",
   "metadata": {},
   "source": [
    "For Random Forest Regressor,\n",
    "\n",
    "- Before hyperparameter tuning, R2 score = 80 %\n",
    "- After hyperparameter tuning, R2 score = 83 %\n",
    "- The value of MAE drops as well, indicating that we are successful in tunning our model."
   ]
  },
  {
   "cell_type": "markdown",
   "id": "b519f9ec",
   "metadata": {},
   "source": [
    "# Conclusions"
   ]
  },
  {
   "cell_type": "markdown",
   "id": "2c218d4e",
   "metadata": {},
   "source": [
    "We have used random forest regressor for training the model and improved its accuracy by doing hyperparameter tuning.\n",
    "As a result, we have trained our Random Forest Regression model, to forecast fares of flight tickets, with an R2 score of 83 %."
   ]
  }
 ],
 "metadata": {
  "kernelspec": {
   "display_name": "Python 3 (ipykernel)",
   "language": "python",
   "name": "python3"
  },
  "language_info": {
   "codemirror_mode": {
    "name": "ipython",
    "version": 3
   },
   "file_extension": ".py",
   "mimetype": "text/x-python",
   "name": "python",
   "nbconvert_exporter": "python",
   "pygments_lexer": "ipython3",
   "version": "3.9.13"
  }
 },
 "nbformat": 4,
 "nbformat_minor": 5
}
